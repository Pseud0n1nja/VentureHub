{
 "cells": [
  {
   "cell_type": "code",
   "execution_count": 10,
   "metadata": {},
   "outputs": [
    {
     "name": "stdout",
     "output_type": "stream",
     "text": [
      "[name: \"/cpu:0\"\n",
      "device_type: \"CPU\"\n",
      "memory_limit: 268435456\n",
      "locality {\n",
      "}\n",
      "incarnation: 17667319242622044601\n",
      ", name: \"/gpu:0\"\n",
      "device_type: \"GPU\"\n",
      "memory_limit: 384172032\n",
      "locality {\n",
      "  bus_id: 1\n",
      "}\n",
      "incarnation: 2672298103008203467\n",
      "physical_device_desc: \"device: 0, name: Tesla K80, pci bus id: 0000:00:1e.0\"\n",
      "]\n",
      "tensorflow version: 1.0.0\n",
      "python version: 3.6.1 |Continuum Analytics, Inc.| (default, May 11 2017, 13:09:58) \n",
      "[GCC 4.4.7 20120313 (Red Hat 4.4.7-1)]\n",
      "python executable location: /home/aind2/anaconda3/envs/aind-dog/bin/python\n",
      "The autoreload extension is already loaded. To reload it, use:\n",
      "  %reload_ext autoreload\n"
     ]
    }
   ],
   "source": [
    "from tensorflow.python.client import device_lib\n",
    "print(device_lib.list_local_devices())\n",
    "\n",
    "import tensorflow as tf, sys\n",
    "sess = tf.Session(config=tf.ConfigProto(log_device_placement=True))\n",
    "\n",
    "print('tensorflow version: %s' % tf.__version__)\n",
    "print('python version: %s' % sys.version)\n",
    "print('python executable location: %s' % sys.executable)\n",
    "\n",
    "# --------------------------------------------------------------\n",
    "# --------------------------------------------------------------\n",
    "%matplotlib inline\n",
    "%load_ext autoreload\n",
    "%autoreload 2\n",
    "\n",
    "import tensorflow as tf\n",
    "import numpy as np\n",
    "from keras.models import Sequential\n",
    "from keras.layers import Dense, Dropout, Flatten\n",
    "from keras.callbacks import Callback\n",
    "\n",
    "\n",
    "from helpers import *\n",
    "import os, sys, tarfile, time\n",
    "import matplotlib.pyplot as plt\n",
    "import matplotlib.pylab as pylab\n",
    "from matplotlib.ticker import MaxNLocator\n",
    "import pickle\n",
    "import pandas as pd\n",
    "\n",
    "params = {'legend.fontsize': 'x-large',\n",
    "          'font.size'      : 11,\n",
    "          'figure.figsize' : (17, 6),\n",
    "          'axes.labelsize' : 'x-large',\n",
    "          'axes.titlesize' : 'x-large',\n",
    "          'axes.grid'      : 'on',\n",
    "          'xtick.labelsize': 'x-large',\n",
    "          'ytick.labelsize': 'x-large'}\n",
    "\n",
    "pylab.rcParams.update(params)\n"
   ]
  },
  {
   "cell_type": "code",
   "execution_count": 11,
   "metadata": {},
   "outputs": [
    {
     "data": {
      "text/html": [
       "<div>\n",
       "<style>\n",
       "    .dataframe thead tr:only-child th {\n",
       "        text-align: right;\n",
       "    }\n",
       "\n",
       "    .dataframe thead th {\n",
       "        text-align: left;\n",
       "    }\n",
       "\n",
       "    .dataframe tbody tr th {\n",
       "        vertical-align: top;\n",
       "    }\n",
       "</style>\n",
       "<table border=\"1\" class=\"dataframe\">\n",
       "  <thead>\n",
       "    <tr style=\"text-align: right;\">\n",
       "      <th></th>\n",
       "      <th>investor_id</th>\n",
       "      <th>investor_name</th>\n",
       "      <th>startup_id</th>\n",
       "      <th>startup_name</th>\n",
       "      <th>num_investments</th>\n",
       "    </tr>\n",
       "  </thead>\n",
       "  <tbody>\n",
       "    <tr>\n",
       "      <th>0</th>\n",
       "      <td>835b33f4-4a34-4dc1-93c0-adf99aa976c4</td>\n",
       "      <td>Stan Chudnovsky</td>\n",
       "      <td>5345d177-29b5-4f35-b505-11250100b4b0</td>\n",
       "      <td>Scripted.com</td>\n",
       "      <td>1</td>\n",
       "    </tr>\n",
       "    <tr>\n",
       "      <th>1</th>\n",
       "      <td>835b33f4-4a34-4dc1-93c0-adf99aa976c4</td>\n",
       "      <td>Stan Chudnovsky</td>\n",
       "      <td>b15260db-16ab-4107-9a17-26e3bc6192b4</td>\n",
       "      <td>BranchOut</td>\n",
       "      <td>1</td>\n",
       "    </tr>\n",
       "    <tr>\n",
       "      <th>2</th>\n",
       "      <td>835b33f4-4a34-4dc1-93c0-adf99aa976c4</td>\n",
       "      <td>Stan Chudnovsky</td>\n",
       "      <td>76279f9a-62d5-4646-8e17-5c8b5f756d2c</td>\n",
       "      <td>The Extraordinaries</td>\n",
       "      <td>1</td>\n",
       "    </tr>\n",
       "    <tr>\n",
       "      <th>3</th>\n",
       "      <td>835b33f4-4a34-4dc1-93c0-adf99aa976c4</td>\n",
       "      <td>Stan Chudnovsky</td>\n",
       "      <td>1494e22e-d43b-437b-9352-a92318b4d3a1</td>\n",
       "      <td>Patreon</td>\n",
       "      <td>1</td>\n",
       "    </tr>\n",
       "    <tr>\n",
       "      <th>4</th>\n",
       "      <td>835b33f4-4a34-4dc1-93c0-adf99aa976c4</td>\n",
       "      <td>Stan Chudnovsky</td>\n",
       "      <td>3978cd95-d379-4a3c-b64b-4333cc998501</td>\n",
       "      <td>RepairPal</td>\n",
       "      <td>1</td>\n",
       "    </tr>\n",
       "    <tr>\n",
       "      <th>5</th>\n",
       "      <td>835b33f4-4a34-4dc1-93c0-adf99aa976c4</td>\n",
       "      <td>Stan Chudnovsky</td>\n",
       "      <td>85797d40-094b-4f95-a3a9-85c6a0d94100</td>\n",
       "      <td>Friend.ly</td>\n",
       "      <td>1</td>\n",
       "    </tr>\n",
       "    <tr>\n",
       "      <th>6</th>\n",
       "      <td>835b33f4-4a34-4dc1-93c0-adf99aa976c4</td>\n",
       "      <td>Stan Chudnovsky</td>\n",
       "      <td>d4eb63ae-7c78-4998-a74b-2fdcf114ac47</td>\n",
       "      <td>Goodreads</td>\n",
       "      <td>1</td>\n",
       "    </tr>\n",
       "    <tr>\n",
       "      <th>7</th>\n",
       "      <td>835b33f4-4a34-4dc1-93c0-adf99aa976c4</td>\n",
       "      <td>Stan Chudnovsky</td>\n",
       "      <td>b34b5dc2-40de-4749-b02f-f5d87f4cacca</td>\n",
       "      <td>Health Gorilla</td>\n",
       "      <td>1</td>\n",
       "    </tr>\n",
       "    <tr>\n",
       "      <th>8</th>\n",
       "      <td>835b33f4-4a34-4dc1-93c0-adf99aa976c4</td>\n",
       "      <td>Stan Chudnovsky</td>\n",
       "      <td>1d5eb78e-2cd9-4ef3-b8eb-ac65a87ffa46</td>\n",
       "      <td>Yodas.com</td>\n",
       "      <td>1</td>\n",
       "    </tr>\n",
       "    <tr>\n",
       "      <th>9</th>\n",
       "      <td>835b33f4-4a34-4dc1-93c0-adf99aa976c4</td>\n",
       "      <td>Stan Chudnovsky</td>\n",
       "      <td>0d4a4cbd-82be-4ffd-a595-bd3d5a9655d4</td>\n",
       "      <td>Wanelo</td>\n",
       "      <td>1</td>\n",
       "    </tr>\n",
       "  </tbody>\n",
       "</table>\n",
       "</div>"
      ],
      "text/plain": [
       "                            investor_id    investor_name  \\\n",
       "0  835b33f4-4a34-4dc1-93c0-adf99aa976c4  Stan Chudnovsky   \n",
       "1  835b33f4-4a34-4dc1-93c0-adf99aa976c4  Stan Chudnovsky   \n",
       "2  835b33f4-4a34-4dc1-93c0-adf99aa976c4  Stan Chudnovsky   \n",
       "3  835b33f4-4a34-4dc1-93c0-adf99aa976c4  Stan Chudnovsky   \n",
       "4  835b33f4-4a34-4dc1-93c0-adf99aa976c4  Stan Chudnovsky   \n",
       "5  835b33f4-4a34-4dc1-93c0-adf99aa976c4  Stan Chudnovsky   \n",
       "6  835b33f4-4a34-4dc1-93c0-adf99aa976c4  Stan Chudnovsky   \n",
       "7  835b33f4-4a34-4dc1-93c0-adf99aa976c4  Stan Chudnovsky   \n",
       "8  835b33f4-4a34-4dc1-93c0-adf99aa976c4  Stan Chudnovsky   \n",
       "9  835b33f4-4a34-4dc1-93c0-adf99aa976c4  Stan Chudnovsky   \n",
       "\n",
       "                             startup_id         startup_name  num_investments  \n",
       "0  5345d177-29b5-4f35-b505-11250100b4b0         Scripted.com                1  \n",
       "1  b15260db-16ab-4107-9a17-26e3bc6192b4            BranchOut                1  \n",
       "2  76279f9a-62d5-4646-8e17-5c8b5f756d2c  The Extraordinaries                1  \n",
       "3  1494e22e-d43b-437b-9352-a92318b4d3a1              Patreon                1  \n",
       "4  3978cd95-d379-4a3c-b64b-4333cc998501            RepairPal                1  \n",
       "5  85797d40-094b-4f95-a3a9-85c6a0d94100            Friend.ly                1  \n",
       "6  d4eb63ae-7c78-4998-a74b-2fdcf114ac47            Goodreads                1  \n",
       "7  b34b5dc2-40de-4749-b02f-f5d87f4cacca       Health Gorilla                1  \n",
       "8  1d5eb78e-2cd9-4ef3-b8eb-ac65a87ffa46            Yodas.com                1  \n",
       "9  0d4a4cbd-82be-4ffd-a595-bd3d5a9655d4               Wanelo                1  "
      ]
     },
     "execution_count": 11,
     "metadata": {},
     "output_type": "execute_result"
    }
   ],
   "source": [
    "df_funding = pd.read_csv('data/funding.csv')\n",
    "df_startup = pd.read_csv('data/startup.csv')\n",
    "df_investor = pd.read_csv('data/investor.csv')\n",
    "df_affiliations = pd.read_csv('data/affiliations.csv')\n",
    "df_funding[:10]"
   ]
  },
  {
   "cell_type": "code",
   "execution_count": 12,
   "metadata": {},
   "outputs": [
    {
     "data": {
      "text/html": [
       "<div>\n",
       "<style>\n",
       "    .dataframe thead tr:only-child th {\n",
       "        text-align: right;\n",
       "    }\n",
       "\n",
       "    .dataframe thead th {\n",
       "        text-align: left;\n",
       "    }\n",
       "\n",
       "    .dataframe tbody tr th {\n",
       "        vertical-align: top;\n",
       "    }\n",
       "</style>\n",
       "<table border=\"1\" class=\"dataframe\">\n",
       "  <thead>\n",
       "    <tr style=\"text-align: right;\">\n",
       "      <th></th>\n",
       "      <th>id</th>\n",
       "      <th>name</th>\n",
       "      <th>num_affiliated_founders</th>\n",
       "    </tr>\n",
       "  </thead>\n",
       "  <tbody>\n",
       "    <tr>\n",
       "      <th>0</th>\n",
       "      <td>7e9709a7-3747-408a-b86a-30dc62ec15bf</td>\n",
       "      <td>Academic Earth</td>\n",
       "      <td>1</td>\n",
       "    </tr>\n",
       "    <tr>\n",
       "      <th>1</th>\n",
       "      <td>5b5ff3bf-b28d-418e-874b-d7f4c62877bc</td>\n",
       "      <td>Mixed Dimensions</td>\n",
       "      <td>1</td>\n",
       "    </tr>\n",
       "    <tr>\n",
       "      <th>2</th>\n",
       "      <td>368ffacf-c567-4ceb-a4fb-e7ad216674bd</td>\n",
       "      <td>ipadio</td>\n",
       "      <td>1</td>\n",
       "    </tr>\n",
       "    <tr>\n",
       "      <th>3</th>\n",
       "      <td>51aae8b3-ddbc-457b-a599-8d69de9a37bf</td>\n",
       "      <td>CTERA Networks</td>\n",
       "      <td>1</td>\n",
       "    </tr>\n",
       "    <tr>\n",
       "      <th>4</th>\n",
       "      <td>c81fcf1a-3418-4d4a-9eec-3c6aa7af7786</td>\n",
       "      <td>Cypromus</td>\n",
       "      <td>1</td>\n",
       "    </tr>\n",
       "    <tr>\n",
       "      <th>5</th>\n",
       "      <td>d737c8d5-8bff-4d0b-b1b2-d9a676111b2b</td>\n",
       "      <td>EOS Imaging</td>\n",
       "      <td>1</td>\n",
       "    </tr>\n",
       "    <tr>\n",
       "      <th>6</th>\n",
       "      <td>ec455eda-79de-40b3-84cb-7c69ad988a6b</td>\n",
       "      <td>Tomorrow</td>\n",
       "      <td>1</td>\n",
       "    </tr>\n",
       "    <tr>\n",
       "      <th>7</th>\n",
       "      <td>5137e562-f1e3-4426-9dda-91535e713758</td>\n",
       "      <td>HDS INTERNATIONAL</td>\n",
       "      <td>1</td>\n",
       "    </tr>\n",
       "    <tr>\n",
       "      <th>8</th>\n",
       "      <td>63bce598-8ead-4fc4-a5d4-3ba2d5f984d7</td>\n",
       "      <td>Epic Production Technologies</td>\n",
       "      <td>1</td>\n",
       "    </tr>\n",
       "    <tr>\n",
       "      <th>9</th>\n",
       "      <td>53253b32-25b8-4c66-849d-229cf9a8bcab</td>\n",
       "      <td>United Dental Care</td>\n",
       "      <td>1</td>\n",
       "    </tr>\n",
       "  </tbody>\n",
       "</table>\n",
       "</div>"
      ],
      "text/plain": [
       "                                     id                          name  \\\n",
       "0  7e9709a7-3747-408a-b86a-30dc62ec15bf                Academic Earth   \n",
       "1  5b5ff3bf-b28d-418e-874b-d7f4c62877bc              Mixed Dimensions   \n",
       "2  368ffacf-c567-4ceb-a4fb-e7ad216674bd                        ipadio   \n",
       "3  51aae8b3-ddbc-457b-a599-8d69de9a37bf                CTERA Networks   \n",
       "4  c81fcf1a-3418-4d4a-9eec-3c6aa7af7786                      Cypromus   \n",
       "5  d737c8d5-8bff-4d0b-b1b2-d9a676111b2b                   EOS Imaging   \n",
       "6  ec455eda-79de-40b3-84cb-7c69ad988a6b                      Tomorrow   \n",
       "7  5137e562-f1e3-4426-9dda-91535e713758             HDS INTERNATIONAL   \n",
       "8  63bce598-8ead-4fc4-a5d4-3ba2d5f984d7  Epic Production Technologies   \n",
       "9  53253b32-25b8-4c66-849d-229cf9a8bcab            United Dental Care   \n",
       "\n",
       "   num_affiliated_founders  \n",
       "0                        1  \n",
       "1                        1  \n",
       "2                        1  \n",
       "3                        1  \n",
       "4                        1  \n",
       "5                        1  \n",
       "6                        1  \n",
       "7                        1  \n",
       "8                        1  \n",
       "9                        1  "
      ]
     },
     "execution_count": 12,
     "metadata": {},
     "output_type": "execute_result"
    }
   ],
   "source": [
    "df_affiliations[:10]"
   ]
  },
  {
   "cell_type": "code",
   "execution_count": 13,
   "metadata": {
    "collapsed": true
   },
   "outputs": [],
   "source": [
    "a = df_funding['num_investments'].as_matrix()"
   ]
  },
  {
   "cell_type": "code",
   "execution_count": 14,
   "metadata": {},
   "outputs": [
    {
     "data": {
      "text/plain": [
       "[<matplotlib.lines.Line2D at 0x7f5f25ddc978>]"
      ]
     },
     "execution_count": 14,
     "metadata": {},
     "output_type": "execute_result"
    },
    {
     "data": {
      "image/png": "[encoded data removed]",
      "text/plain": [
       "<matplotlib.figure.Figure at 0x7f5f25d96240>"
      ]
     },
     "metadata": {},
     "output_type": "display_data"
    }
   ],
   "source": [
    "ax = plt.subplot(111)\n",
    "ax.plot(a, 'k.')\n"
   ]
  },
  {
   "cell_type": "code",
   "execution_count": 15,
   "metadata": {},
   "outputs": [
    {
     "data": {
      "text/plain": [
       "(array([  1.56078000e+05,   2.56680000e+04,   7.64300000e+03,\n",
       "          2.56700000e+03,   8.83000000e+02,   2.92000000e+02,\n",
       "          1.26000000e+02,   3.90000000e+01,   1.70000000e+01,\n",
       "          1.30000000e+01,   5.00000000e+00,   6.00000000e+00,\n",
       "          0.00000000e+00,   1.00000000e+00,   2.00000000e+00,\n",
       "          0.00000000e+00,   1.00000000e+00,   0.00000000e+00,\n",
       "          0.00000000e+00]),\n",
       " array([  0.5,   1.5,   2.5,   3.5,   4.5,   5.5,   6.5,   7.5,   8.5,\n",
       "          9.5,  10.5,  11.5,  12.5,  13.5,  14.5,  15.5,  16.5,  17.5,\n",
       "         18.5,  19.5]),\n",
       " <a list of 19 Patch objects>)"
      ]
     },
     "execution_count": 15,
     "metadata": {},
     "output_type": "execute_result"
    },
    {
     "data": {
      "image/png": "[encoded data removed]",
      "text/plain": [
       "<matplotlib.figure.Figure at 0x7f5f25ddc828>"
      ]
     },
     "metadata": {},
     "output_type": "display_data"
    }
   ],
   "source": [
    "ax = plt.subplot(111)\n",
    "\n",
    "ax.hist(a, bins=np.linspace(.5,19.5,20))\n"
   ]
  },
  {
   "cell_type": "code",
   "execution_count": 16,
   "metadata": {},
   "outputs": [
    {
     "name": "stdout",
     "output_type": "stream",
     "text": [
      "n_investments: \t193341\n",
      "n_investors: \t41838\n",
      "n_startups: \t64764\n"
     ]
    }
   ],
   "source": [
    "gr_inv = df_funding.groupby(by='investor_id').groups\n",
    "gr_sta = df_funding.groupby(by='startup_id').groups\n",
    "\n",
    "invID_to_i = {}\n",
    "staID_to_j = {}\n",
    "i_to_invID = {}\n",
    "j_to_staID = {}\n",
    "\n",
    "#.............................\n",
    "i = -1\n",
    "for k,v in gr_inv.items():\n",
    "    i = i + 1\n",
    "    invID_to_i[k] = i\n",
    "    i_to_invID[i] = k\n",
    "    \n",
    "j = -1\n",
    "for k,v in gr_sta.items():\n",
    "    j = j + 1\n",
    "    staID_to_j[k] = j\n",
    "    j_to_staID[j] = k\n",
    "#.............................\n",
    "n_investments, n_investors, n_startups = (len(df_funding), len(invID_to_i), len(staID_to_j))\n",
    "\n",
    "print('n_investments: \\t%i' % (n_investments,)) \n",
    "print('n_investors: \\t%i' % (n_investors,)) \n",
    "print('n_startups: \\t%i' % (n_startups,)) "
   ]
  },
  {
   "cell_type": "markdown",
   "metadata": {},
   "source": [
    "# Matrix Factorization Model\n",
    "### Obtain `R` and `R_indices`:"
   ]
  },
  {
   "cell_type": "code",
   "execution_count": 17,
   "metadata": {},
   "outputs": [
    {
     "name": "stdout",
     "output_type": "stream",
     "text": [
      "R.shape: (193341,) \n",
      "R_indices.shape: (193341, 2)\n"
     ]
    }
   ],
   "source": [
    "df_funding['i'] =  df_funding['investor_id'].apply(lambda row: invID_to_i[row])\n",
    "df_funding['j'] =  df_funding['startup_id'].apply(lambda row: staID_to_j[row])\n",
    "R_indices = df_funding[['i', 'j']].as_matrix()\n",
    "R = np.ones(len(R_indices))\n",
    "print('R.shape: %a \\nR_indices.shape: %a' % (R.shape, R_indices.shape))"
   ]
  },
  {
   "cell_type": "markdown",
   "metadata": {},
   "source": [
    "### Randomly sample indices of N/A entries in matrix `R`, then load the data into `R0_indices` and `R0=0`.\n",
    "### Then, find `R0_indices` where there's collisions with `R_indices`."
   ]
  },
  {
   "cell_type": "code",
   "execution_count": 18,
   "metadata": {
    "collapsed": true
   },
   "outputs": [],
   "source": [
    "# zero_examples = len(R)*10\n",
    "# R0 = np.zeros((zero_examples))\n",
    "# R0_indices = np.zeros((zero_examples, 2), dtype=np.int64)\n",
    "# R0_indices[:,0] = np.random.choice(n_investors, zero_examples) \n",
    "# R0_indices[:,1] = np.random.choice(n_startups, zero_examples) \n",
    "\n",
    "# # This cell takes 60 min to run.\n",
    "# start = time.time()\n",
    "# collision_i = []\n",
    "\n",
    "# for i, row in enumerate(R0_indices):\n",
    "#     a = np.equal(row, R_indices)\n",
    "#     if np.round(np.mean(a, axis=1)).astype('bool').any():\n",
    "#         # checks if there's any row of R0_indices which is equal to some row of R_indices.\n",
    "#         o = print_runtime(start,p_flag=False)\n",
    "#         print('' + o)\n",
    "#         print('collision detected at i: %i, row: %a' % (i, row))\n",
    "#         collision_i.append(i)\n",
    "\n",
    "# # .....................................................\n",
    "# with open('data/collision_i.pkl', 'wb') as f:\n",
    "#     pickle.dump(collision_i, f, pickle.HIGHEST_PROTOCOL)\n",
    "# with open('data/R0_indices.pkl', 'wb') as f:\n",
    "#     pickle.dump(R0_indices, f, pickle.HIGHEST_PROTOCOL)\n",
    "    \n",
    "# print_runtime(start)"
   ]
  },
  {
   "cell_type": "code",
   "execution_count": 19,
   "metadata": {
    "collapsed": true
   },
   "outputs": [],
   "source": [
    "with open('data/collision_i.pkl', 'rb') as f:\n",
    "    collision_i = pickle.load(f)\n",
    "    \n",
    "with open('data/R0_indices.pkl', 'rb') as f:\n",
    "    R0_indices = pickle.load(f)\n",
    "\n",
    "\"\"\" Set the following exceptions in R0 to 1:\n",
    "     R0[collision_i[...]] = 1\"\"\"\n",
    "\n",
    "# correct the R0 vector where there are collisions with R.\n",
    "R0 = np.zeros(len(R0_indices))\n",
    "for i in collision_i:\n",
    "    R0[i] = 1\n"
   ]
  },
  {
   "cell_type": "code",
   "execution_count": 20,
   "metadata": {},
   "outputs": [
    {
     "name": "stdout",
     "output_type": "stream",
     "text": [
      "train_R_indices.shape: \t(1361120, 2)\n",
      "cv_R_indices.shape: \t(340280, 2)\n",
      "test_R_indices.shape: \t(425351, 2)\n"
     ]
    }
   ],
   "source": [
    "### Shuffle and Split Data:\n",
    "\n",
    "shuffled_R_indices, shuffled_R = shuffler(np.concatenate((R_indices, R0_indices)), np.concatenate((R, R0)))\n",
    "train_R_indices, train_R, cv_R_indices, cv_R, test_R_indices, test_R = split_data(shuffled_R_indices, shuffled_R)\n",
    "print('train_R_indices.shape: \\t%a' % (train_R_indices.shape,))\n",
    "print('cv_R_indices.shape: \\t%a' % (cv_R_indices.shape,))\n",
    "print('test_R_indices.shape: \\t%a' % (test_R_indices.shape,))"
   ]
  },
  {
   "cell_type": "markdown",
   "metadata": {},
   "source": [
    "### Training:"
   ]
  },
  {
   "cell_type": "code",
   "execution_count": 101,
   "metadata": {
    "scrolled": false
   },
   "outputs": [],
   "source": [
    "LAMBDA = 0.000\n",
    "BATCH_SIZE = 256\n",
    "lr = 0.01\n",
    "k = 10 \n",
    "NUM_EPOCHS = 10\n",
    "    \n",
    "#.............................................. \n",
    "start = time.time()\n",
    "print('Start: construct_graph()... ', end='\\r')\n",
    "train, loss, reg, R_indices, R, U, V, R_pred, X_UV = \\\n",
    "                        construct_graph(LAMBDA, k, lr, BATCH_SIZE, n_investors, n_startups)\n",
    "o = print_runtime(start, p_flag=False)\n",
    "print('Finished: construct_graph()... ' + o)\n",
    "#.............................................. \n",
    "\n",
    "start = time.time()\n",
    "mae_train_arr, mae_cv_arr, mae_test_arr, loss_arr = train_the_model(R_indices, R, train_R_indices, \n",
    "                train_R, BATCH_SIZE, \n",
    "                NUM_EPOCHS, LAMBDA, k, lr, \n",
    "                train, loss, reg, U, V, X_UV, R_pred,\n",
    "                cv_R, cv_R_indices, test_R, test_R_indices)\n",
    "#.............................................. \n",
    "# plotting....\n",
    "ax1, ax2 = plotter(mae_train_arr, mae_cv_arr, mae_test_arr, loss_arr, BATCH_SIZE)\n",
    "\n",
    "#.............................................. \n",
    "print_runtime(start)\n",
    "# os.system('afplay System/Library/Sounds/Ping.aiff')"
   ]
  },
  {
   "cell_type": "code",
   "execution_count": 97,
   "metadata": {},
   "outputs": [],
   "source": [
    "# Restore session variables from disk.\n",
    "sess = tf.Session()\n",
    "saver = tf.train.Saver()\n",
    "saver.restore(sess, \"saved_models/best_model.ckpt\") \n",
    "preds_test, _mae_test = evaluate_preds_and_mae(sess, test_R, test_R_indices, R_pred, R_indices, R, BATCH_SIZE)\n",
    "preds_cv, _mae_cv = evaluate_preds_and_mae(sess, cv_R, cv_R_indices, R_pred, R_indices, R, BATCH_SIZE)\n",
    "sess.close()"
   ]
  },
  {
   "cell_type": "code",
   "execution_count": 98,
   "metadata": {},
   "outputs": [
    {
     "name": "stderr",
     "output_type": "stream",
     "text": [
      "/home/aind2/miscelleneous_projects/VentureHub/helpers.py:63: RuntimeWarning: invalid value encountered in double_scalars\n",
      "  precision = tp/float(tp+fp)\n"
     ]
    },
    {
     "data": {
      "text/plain": [
       "[<matplotlib.lines.Line2D at 0x7f5e44b01320>]"
      ]
     },
     "execution_count": 98,
     "metadata": {},
     "output_type": "execute_result"
    },
    {
     "data": {
      "image/png": "[encoded data removed]",
      "text/plain": [
       "<matplotlib.figure.Figure at 0x7f5df73f1898>"
      ]
     },
     "metadata": {},
     "output_type": "display_data"
    }
   ],
   "source": [
    "_, accuracy, precision, recall, f1, fpr = return_ROC_statistics(preds_cv, cv_R )\n",
    "\n",
    "# ................................................................\n",
    "\n",
    "ax = plt.subplot(121)\n",
    "ax.plot(fpr, recall, 'k')\n",
    "ax.plot(fpr, recall, 'k.', alpha=.5)\n",
    "ax.plot([0,1], [0,1],'b--', alpha=.3)\n",
    "ax.set_xlabel('FPR')\n",
    "ax.set_ylabel('TPR')\n",
    "ax.set_title('ROC Curve (on test)')\n",
    "\n",
    "ax = plt.subplot(122)\n",
    "threshold = np.linspace(0,1,len(precision))\n",
    "ax.plot(threshold[1:-1], recall[1:-1], 'r')\n",
    "ax.plot(threshold[1:-1], precision[1:-1], 'b')\n",
    "ax.set_ylim((0,1))\n",
    "ax.set_xlabel('threshold')\n",
    "ax.set_title('precision and recall (on test)')\n",
    "ax.legend(['recall', 'precision']);\n",
    "ax.plot(threshold[1:-1], recall[1:-1], 'r.', alpha=.5)\n",
    "ax.plot(threshold[1:-1], precision[1:-1], 'b.', alpha=.5)\n",
    "\n",
    "#........................................."
   ]
  },
  {
   "cell_type": "code",
   "execution_count": 99,
   "metadata": {},
   "outputs": [
    {
     "name": "stdout",
     "output_type": "stream",
     "text": [
      "precision_cv: 0.317\n",
      "recall_cv: 0.707 <==\n",
      "f1_score_cv: 0.438\n"
     ]
    },
    {
     "data": {
      "text/latex": [
       "$$precision = \\frac{tp}{tp+fp}$$ $$$$ $$recall = \\frac{tp}{tp+fn}$$"
      ],
      "text/plain": [
       "<IPython.core.display.Latex object>"
      ]
     },
     "execution_count": 99,
     "metadata": {},
     "output_type": "execute_result"
    },
    {
     "data": {
      "image/png": "[encoded data removed]",
      "text/plain": [
       "<matplotlib.figure.Figure at 0x7f5df728a7f0>"
      ]
     },
     "metadata": {},
     "output_type": "display_data"
    }
   ],
   "source": [
    "from sklearn.metrics import precision_recall_fscore_support as prf_score\n",
    "\n",
    "y_true = cv_R[:len(preds_cv)]\n",
    "y_pred = np.round(preds_cv)\n",
    "y_pred_cv_01, _,precision_cv,recall_cv,f1_score_cv,_ = return_ROC_statistics(preds_cv, cv_R, threshold=0.5) \n",
    "\n",
    "# ((_,precision_cv), (_,recall_cv), (_,f1_score_cv),_) = prf_score(y_true=y_true, y_pred=y_pred_cv_01) \n",
    "\n",
    "# ............................................................................\n",
    "\n",
    "ax = plt.subplot(111)\n",
    "ax.plot(y_pred_cv_01[:200],'ro', alpha=.6, markersize=12,  markerfacecolor='None', markeredgewidth=3)\n",
    "ax.plot(cv_R[:200],'b.', alpha=.6, markersize=16)\n",
    "ax.legend(('y_pred', 'y_true'), loc='right') \n",
    "\n",
    "# ............................................................................\n",
    "\n",
    "from IPython.display import Markdown, Latex\n",
    "print('precision_cv:{:6.3f}\\nrecall_cv:{:6.3f} <==\\nf1_score_cv:{:6.3f}'.format(\n",
    "    precision_cv, recall_cv, f1_score_cv))\n",
    "Latex('$$precision = \\\\frac{tp}{tp+fp}$$ $$$$ $$recall = \\\\frac{tp}{tp+fn}$$')\n",
    "\n"
   ]
  },
  {
   "cell_type": "markdown",
   "metadata": {
    "collapsed": true
   },
   "source": [
    "> ### Comparison between Linear and Cross Feature Models:   \n",
    "   \n",
    "  \n",
    "> - Linear Model: `25 sec/epoch`     \n",
    "Cross-Feature Model: `80 sec/epoch`  \n",
    "  \n",
    "  \n",
    "> - Linear Feature Model, though, can achieve smaller `MAE_cv=0.1326` (`@epoch10`), but produces worse `recall_cv=0.515`. \n",
    "  \n",
    "  \n",
    "> - Cross Feature Model achieves `recall_cv=0.618` and  `MAE_cv=0.1740` (`@epoch8`).\n",
    "  \n",
    "  \n",
    "> -  Linear Feature Model loss function is minimized smoothly. However, Cross Feature Model loss function is very jagged and jumpy. Might try optimizing Cross Feature Model with a smaller `lr=0.001` !!! \n",
    "  \n",
    "  \n",
    "> - Cross Features Model with a smaller learning rate `lr=0.001`, achieves much smaller `MAE_cv=0.1608` (`@epoch10`) but not a totally satisfactory recall `recall_cv: 0.586`.  \n",
    "But `mae_cv` is's still dropping. Need to start training from saved model and run it for another 10 epochs.\n",
    "  \n",
    "  \n",
    "\n",
    "  "
   ]
  },
  {
   "cell_type": "markdown",
   "metadata": {
    "collapsed": true
   },
   "source": [
    "### TO DO:\n",
    "> - `train_the_model()`: restore session with   \n",
    "  `saver.restore(sess, \"saved_models/best_model.ckpt\")`   \n",
    "  instead of creating one with:   \n",
    "  `with tf.Session() as sess:`\n",
    "  \n",
    "  \n",
    "> - add a flag to `train_the_model(restore=False)`. If `(sess=sess, restore=True)` than skip creating a new `sess`\n",
    "  \n",
    "  \n",
    "> - save `best_model.ckpt` accoprding to `f1_score` instead of `mae_cv` or `recall_cv`."
   ]
  },
  {
   "cell_type": "code",
   "execution_count": null,
   "metadata": {
    "collapsed": true
   },
   "outputs": [],
   "source": []
  },
  {
   "cell_type": "code",
   "execution_count": null,
   "metadata": {
    "collapsed": true
   },
   "outputs": [],
   "source": []
  },
  {
   "cell_type": "code",
   "execution_count": null,
   "metadata": {
    "collapsed": true
   },
   "outputs": [],
   "source": []
  },
  {
   "cell_type": "code",
   "execution_count": null,
   "metadata": {
    "collapsed": true
   },
   "outputs": [],
   "source": []
  },
  {
   "cell_type": "code",
   "execution_count": null,
   "metadata": {
    "collapsed": true
   },
   "outputs": [],
   "source": []
  },
  {
   "cell_type": "code",
   "execution_count": null,
   "metadata": {
    "collapsed": true
   },
   "outputs": [],
   "source": []
  },
  {
   "cell_type": "code",
   "execution_count": null,
   "metadata": {
    "collapsed": true
   },
   "outputs": [],
   "source": []
  },
  {
   "cell_type": "code",
   "execution_count": null,
   "metadata": {
    "collapsed": true
   },
   "outputs": [],
   "source": []
  },
  {
   "cell_type": "code",
   "execution_count": null,
   "metadata": {
    "collapsed": true
   },
   "outputs": [],
   "source": []
  }
 ],
 "metadata": {
  "kernelspec": {
   "display_name": "Python 3",
   "language": "python",
   "name": "python3"
  },
  "language_info": {
   "codemirror_mode": {
    "name": "ipython",
    "version": 3
   },
   "file_extension": ".py",
   "mimetype": "text/x-python",
   "name": "python",
   "nbconvert_exporter": "python",
   "pygments_lexer": "ipython3",
   "version": "3.6.1"
  }
 },
 "nbformat": 4,
 "nbformat_minor": 2
}
